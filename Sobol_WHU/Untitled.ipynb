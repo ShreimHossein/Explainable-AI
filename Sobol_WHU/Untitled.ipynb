{
 "cells": [
  {
   "cell_type": "code",
   "execution_count": 1,
   "id": "913453f9-9a1b-4c4a-84bb-4f239df783c4",
   "metadata": {},
   "outputs": [
    {
     "name": "stderr",
     "output_type": "stream",
     "text": [
      "/home/jamada/jupyterlab/eo-xai/xai_fyp/lib/python3.10/site-packages/tqdm/auto.py:21: TqdmWarning: IProgress not found. Please update jupyter and ipywidgets. See https://ipywidgets.readthedocs.io/en/stable/user_install.html\n",
      "  from .autonotebook import tqdm as notebook_tqdm\n"
     ]
    },
    {
     "name": "stdout",
     "output_type": "stream",
     "text": [
      "1.10.1\n"
     ]
    }
   ],
   "source": [
    "# !pip install -q --upgrade scipy\n",
    "import cv2\n",
    "import numpy as np\n",
    "import scipy\n",
    "import torch\n",
    "import torchvision.models as models\n",
    "import torchvision.transforms as transforms\n",
    "import matplotlib.pyplot as plt\n",
    "import albumentations as A\n",
    "import glob\n",
    "import os\n",
    "from segmentation_models_pytorch.encoders import get_preprocessing_fn\n",
    "from tqdm import tqdm\n",
    "from dataset_cityscapes import *\n",
    "\n",
    "\n",
    "print(scipy.__version__)"
   ]
  },
  {
   "cell_type": "code",
   "execution_count": 2,
   "id": "aae7d386-1410-4c09-8bda-1e5b31fd7157",
   "metadata": {},
   "outputs": [
    {
     "name": "stdout",
     "output_type": "stream",
     "text": [
      "GPU is available\n",
      "Current device is cuda:0\n"
     ]
    }
   ],
   "source": [
    "# Check if cuda is available\n",
    "if torch.cuda.is_available():\n",
    "    print(\"GPU is available\")\n",
    "\n",
    "# Check if the current device is cuda\n",
    "if torch.cuda.current_device() == 0:\n",
    "    print(\"Current device is cuda:0\")"
   ]
  },
  {
   "cell_type": "code",
   "execution_count": 3,
   "id": "28e837b0-65b0-43f8-8e92-00960865733a",
   "metadata": {},
   "outputs": [
    {
     "name": "stdout",
     "output_type": "stream",
     "text": [
      "/home/jamada/jupyterlab/eo-xai/sobol_indices/Sobol-Attribution-Method\n",
      "/home/jamada/jupyterlab/eo-xai/sobol_indices/Sobol-Attribution-Method\n"
     ]
    }
   ],
   "source": [
    "%cd /home/jamada/jupyterlab/eo-xai/sobol_indices/Sobol-Attribution-Method\n",
    "!pwd"
   ]
  },
  {
   "cell_type": "code",
   "execution_count": 4,
   "id": "44d96085-9a43-4aa5-a453-87866285142b",
   "metadata": {},
   "outputs": [
    {
     "name": "stdout",
     "output_type": "stream",
     "text": [
      "2975 2975\n"
     ]
    }
   ],
   "source": [
    "def to_tensor(x, **kwargs):\n",
    "    return x.transpose(2, 0, 1).astype(\"float32\")\n",
    "\n",
    "# ======== CONFIGURATION ======== #\n",
    "S_NAME_ENCODER = \"efficientnet-b4\"\n",
    "S_NAME_WEIGHTS = \"imagenet\"\n",
    "P_DIR_MODEL = \"/home/jamada/jupyterlab/eo-xai/CityscapesNoiseEfficient-noise1/UNET_EfficientNetB4_CE/utilitybestmodelefficientnet/model_epoch_0050.pth\"\n",
    "P_DIR_DATA = \"/home/jamada/jupyterlab/eo-xai/CityScapes_Sementic_Segmentation/datasets/cityscapes/\"\n",
    "S_DEVICE = torch.device(\"cuda\" if torch.cuda.is_available() else \"cpu\")\n",
    "\n",
    "# ======== SETUP ======== #\n",
    "# setup model\n",
    "model = torch.load(P_DIR_MODEL, map_location=S_DEVICE)\n",
    "model.eval()\n",
    "# setup input normalization\n",
    "preprocess_input = get_preprocessing_fn(\n",
    "    encoder_name = S_NAME_ENCODER,\n",
    "    pretrained = S_NAME_WEIGHTS,\n",
    ")\n",
    "# play with it! add a transformation to see the generalization performance\n",
    "transform_weather = A.Compose([\n",
    "    #A.RandomRain(brightness_coefficient=0.9, blur_value=3, p=1),\n",
    "    #A.RandomSnow(snow_point_lower=0.3, snow_point_upper=0.5, p=1),\n",
    "    #A.RandomFog(fog_coef_lower=0.1, fog_coef_upper=0.3, alpha_coef=0.05, p=1),\n",
    "])\n",
    "transform_full = A.Compose([\n",
    "    A.Lambda(name = \"image_preprocessing\", image = preprocess_input),\n",
    "    A.Lambda(name = \"to_tensor\", image = to_tensor),\n",
    "])\n",
    "# setup train dataset\n",
    "dataset_train = DatasetCityscapesSemantic(\n",
    "    root = P_DIR_DATA,\n",
    "    split = \"train\",\n",
    "    mode = \"fine\",\n",
    "    transform = transform_full,\n",
    "    device= S_DEVICE,\n",
    "    excluded = [],\n",
    "\n",
    ")\n",
    "\n",
    "sem_classes = ['road', 'sidewalk', 'building', 'wall', 'fence', 'pole', 'traffic light',\n",
    "    'traffic sign', 'vegetation', 'terrain', 'sky', 'person', 'rider', 'car', 'truck',\n",
    "    'bus', 'train', 'motorcycle', 'bicycle', 'background']\n",
    "\n",
    "sem_class_to_idx = {cls: idx for (idx, cls) in enumerate(sem_classes)}\n",
    "\n",
    "\n",
    "\n",
    "def show(img, **kwargs):\n",
    "  if torch.is_tensor(img):\n",
    "    img = img.detach().cpu().numpy()\n",
    "    img = np.moveaxis(img, 0, -1)\n",
    "\n",
    "  img -= img.min(); img /= img.max()\n",
    "  plt.imshow(img, **kwargs)\n",
    "  plt.axis('off')\n",
    "  S_NAME_WEIGHTS = \"imagenet\"\n"
   ]
  },
  {
   "cell_type": "code",
   "execution_count": 5,
   "id": "f44d7faa-1f87-4b0c-b061-318298816b21",
   "metadata": {},
   "outputs": [
    {
     "name": "stdout",
     "output_type": "stream",
     "text": [
      "/home/jamada/jupyterlab/eo-xai/CityScapes_Sementic_Segmentation/datasets/cityscapes/leftImg8bit/train/bremen/bremen_000170_000019_leftImg8bit.png\n",
      "(1024, 2048)\n",
      "torch.Size([1, 3, 1024, 2048])\n"
     ]
    },
    {
     "data": {
      "text/plain": [
       "Text(0.5, 1.0, 'Ground Truth')"
      ]
     },
     "execution_count": 5,
     "metadata": {},
     "output_type": "execute_result"
    },
    {
     "data": {
      "image/png": "[encoded data removed]",
      "text/plain": [
       "<Figure size 640x480 with 1 Axes>"
      ]
     },
     "metadata": {},
     "output_type": "display_data"
    }
   ],
   "source": [
    "## image setup\n",
    "im,target,p_image,p_target = dataset_train.__getitem__(4)\n",
    "print(p_image)\n",
    "im = torch.tensor(im)\n",
    "im = im.unsqueeze(0)\n",
    "x = torch.Tensor(np.array(im)).to(S_DEVICE)\n",
    "target_all = cv2.imread(p_target,cv2.IMREAD_UNCHANGED) #GT_lableIds\n",
    "road_mask = (target_all == 7 ).astype(np.uint8)\n",
    "print(road_mask.shape)\n",
    "print(im.shape)\n",
    "\n",
    "#resize\n",
    "# resize_transform = A.Resize(256,512)\n",
    "# road_mask = resize_transform(image=road_mask)['image']\n",
    "plt.imshow(road_mask)\n",
    "plt.title(\"Ground Truth\", fontsize=15)"
   ]
  },
  {
   "cell_type": "code",
   "execution_count": null,
   "id": "df070907-69ac-40e6-ad52-679bccb341e0",
   "metadata": {},
   "outputs": [],
   "source": []
  },
  {
   "cell_type": "code",
   "execution_count": 10,
   "id": "d7608cf8-2667-43a3-9c30-ec8e81d134c8",
   "metadata": {},
   "outputs": [],
   "source": [
    "target_class_category = 0 # road: 0, sky = 10\n",
    "#Input_image = x\n",
    "#Sobol_sm = explanations[i] #(1024,2048)\n",
    "#CAM_sm = grayscale_cam_EX #(1024,2048)\n",
    "# Functions:\n",
    "def prob_2_entropy(prob):\n",
    "    \"\"\" convert probabilistic prediction maps to weighted self-information maps\n",
    "    \"\"\"\n",
    "    n, c, h, w = prob.size()\n",
    "    return -torch.mul(prob, torch.log2(prob + 1e-30)) / np.log2(c)\n",
    "\n",
    "def get_mask_entropy(Input_image, Sobol_sm, target_class_category):\n",
    "    # if Sobol_sm == None:\n",
    "    if Sobol_sm == None:\n",
    "\n",
    "        mask_perturbated_sobol = Input_image\n",
    "\n",
    "    else:\n",
    "\n",
    "        mask_perturbated_sobol = Input_image  * Sobol_sm # sm: Saliency map\n",
    "\n",
    "    perturbated_logits_sobol = model(mask_perturbated_sobol)\n",
    "\n",
    "    # Predicated mask\n",
    "    prediction_mask_per_sobol = perturbated_logits_sobol.argmax(axis = 1)\n",
    "    prediction_mask_per_sobol = prediction_mask_per_sobol[0, :, :].detach().cpu().numpy()\n",
    "    per_mask_uint8_per = 255 * np.uint8(prediction_mask_per_sobol == target_class_category)\n",
    "\n",
    "    # Entropy masks\n",
    "    softmax_perturbated_sobol = perturbated_logits_sobol.softmax(axis=1)\n",
    "    logist_softmax_entropy_perturbated_sobol = prob_2_entropy(softmax_perturbated_sobol)\n",
    "    target_entropy_mask_perturbated_sobol = logist_softmax_entropy_perturbated_sobol[0, :, :, :].detach().cpu().numpy()\n",
    "    Entropy_mask_target_class_perturabted = target_entropy_mask_perturbated_sobol[target_class_category, :, :]\n",
    "\n",
    "    return per_mask_uint8_per, Entropy_mask_target_class_perturabted\n",
    "\n",
    "def get_mask_entropy_temp(Input_image, Sobol_sm, target_class_category):\n",
    "    # if Sobol_sm == None:\n",
    "\n",
    "\n",
    "    mask_perturbated_sobol = Input_image  * Sobol_sm # sm: Saliency map\n",
    "\n",
    "    perturbated_logits_sobol = model(mask_perturbated_sobol)\n",
    "\n",
    "    # Predicated mask\n",
    "    prediction_mask_per_sobol = perturbated_logits_sobol.argmax(axis = 1)\n",
    "    prediction_mask_per_sobol = prediction_mask_per_sobol[0, :, :].detach().cpu().numpy()\n",
    "    per_mask_uint8_per = 255 * np.uint8(prediction_mask_per_sobol == target_class_category)\n",
    "\n",
    "    # Entropy masks\n",
    "    softmax_perturbated_sobol = perturbated_logits_sobol.softmax(axis=1)\n",
    "    logist_softmax_entropy_perturbated_sobol = prob_2_entropy(softmax_perturbated_sobol)\n",
    "    target_entropy_mask_perturbated_sobol = logist_softmax_entropy_perturbated_sobol[0, :, :, :].detach().cpu().numpy()\n",
    "    Entropy_mask_target_class_perturabted = target_entropy_mask_perturbated_sobol[target_class_category, :, :]\n",
    "\n",
    "    return per_mask_uint8_per, Entropy_mask_target_class_perturabted"
   ]
  },
  {
   "cell_type": "code",
   "execution_count": 11,
   "id": "2eac5f3c-9305-4843-994d-3acbbd46d58b",
   "metadata": {},
   "outputs": [],
   "source": [
    "#Model Input: input image\n",
    "[predicted_mask, entropy_mask]=get_mask_entropy(x,None,0)"
   ]
  },
  {
   "cell_type": "code",
   "execution_count": 12,
   "id": "9c3e590b-409b-41c3-8580-f53c3ecf47ca",
   "metadata": {},
   "outputs": [
    {
     "data": {
      "text/plain": [
       "Text(0.5, 1.0, 'Predicted Mask')"
      ]
     },
     "execution_count": 12,
     "metadata": {},
     "output_type": "execute_result"
    },
    {
     "data": {
      "image/png": "[encoded data removed]",
      "text/plain": [
       "<Figure size 640x480 with 1 Axes>"
      ]
     },
     "metadata": {},
     "output_type": "display_data"
    }
   ],
   "source": [
    "plt.imshow(predicted_mask)\n",
    "plt.title(\"Predicted Mask\", fontsize=15)"
   ]
  },
  {
   "cell_type": "code",
   "execution_count": 43,
   "id": "fab19c02-2924-408b-b51c-167e692fc418",
   "metadata": {},
   "outputs": [
    {
     "data": {
      "text/plain": [
       "Text(0.5, 1.0, 'Entropy Mask')"
      ]
     },
     "execution_count": 43,
     "metadata": {},
     "output_type": "execute_result"
    },
    {
     "data": {
      "image/png": "[encoded data removed]",
      "text/plain": [
       "<Figure size 640x480 with 1 Axes>"
      ]
     },
     "metadata": {},
     "output_type": "display_data"
    }
   ],
   "source": [
    "plt.imshow(entropy_mask)\n",
    "plt.title(\"Entropy Mask\",fontsize=15 )"
   ]
  },
  {
   "cell_type": "code",
   "execution_count": 6,
   "id": "6efc952f-f392-4098-ae21-499b1c1b208a",
   "metadata": {},
   "outputs": [],
   "source": [
    "from sobol_attribution_method.torch_explainer import SobolAttributionMethod"
   ]
  },
  {
   "cell_type": "code",
   "execution_count": 7,
   "id": "652c5e5d-6892-4db5-9e23-5751269c2e94",
   "metadata": {},
   "outputs": [
    {
     "name": "stdout",
     "output_type": "stream",
     "text": [
      "masks:  (2112, 1, 8, 8)\n",
      "torch.Size([1, 3, 1024, 2048])\n"
     ]
    },
    {
     "ename": "RuntimeError",
     "evalue": "CUDA out of memory. Tried to allocate 2.25 GiB (GPU 0; 11.91 GiB total capacity; 9.57 GiB already allocated; 1.57 GiB free; 9.58 GiB reserved in total by PyTorch) If reserved memory is >> allocated memory try setting max_split_size_mb to avoid fragmentation.  See documentation for Memory Management and PYTORCH_CUDA_ALLOC_CONF",
     "output_type": "error",
     "traceback": [
      "\u001b[0;31m---------------------------------------------------------------------------\u001b[0m",
      "\u001b[0;31mRuntimeError\u001b[0m                              Traceback (most recent call last)",
      "Cell \u001b[0;32mIn[7], line 3\u001b[0m\n\u001b[1;32m      1\u001b[0m explainer \u001b[38;5;241m=\u001b[39m SobolAttributionMethod(model,road_mask, grid_size\u001b[38;5;241m=\u001b[39m\u001b[38;5;241m8\u001b[39m, nb_design\u001b[38;5;241m=\u001b[39m\u001b[38;5;241m32\u001b[39m, batch_size\u001b[38;5;241m=\u001b[39m\u001b[38;5;241m8\u001b[39m)\n\u001b[1;32m      2\u001b[0m \u001b[38;5;28mprint\u001b[39m(x\u001b[38;5;241m.\u001b[39mshape)\n\u001b[0;32m----> 3\u001b[0m explanations \u001b[38;5;241m=\u001b[39m \u001b[43mexplainer\u001b[49m\u001b[43m(\u001b[49m\u001b[43mx\u001b[49m\u001b[43m)\u001b[49m\n\u001b[1;32m      5\u001b[0m \u001b[38;5;66;03m# print(y)\u001b[39;00m\n\u001b[1;32m      7\u001b[0m \u001b[38;5;28;01mfor\u001b[39;00m i \u001b[38;5;129;01min\u001b[39;00m \u001b[38;5;28mrange\u001b[39m(\u001b[38;5;28mlen\u001b[39m(x)):\n",
      "File \u001b[0;32m~/jupyterlab/eo-xai/sobol_indices/Sobol-Attribution-Method/sobol_attribution_method/torch_explainer.py:99\u001b[0m, in \u001b[0;36mSobolAttributionMethod.__call__\u001b[0;34m(self, inputs)\u001b[0m\n\u001b[1;32m     96\u001b[0m batch_masks \u001b[38;5;241m=\u001b[39m \u001b[38;5;28mself\u001b[39m\u001b[38;5;241m.\u001b[39mmasks[start_index:end_index]\n\u001b[1;32m     98\u001b[0m \u001b[38;5;66;03m# apply perturbation to the input and forward\u001b[39;00m\n\u001b[0;32m---> 99\u001b[0m batch_y \u001b[38;5;241m=\u001b[39m \u001b[43mSobolAttributionMethod\u001b[49m\u001b[38;5;241;43m.\u001b[39;49m\u001b[43m_batch_forward\u001b[49m\u001b[43m(\u001b[49m\u001b[38;5;28;43mself\u001b[39;49m\u001b[38;5;241;43m.\u001b[39;49m\u001b[43mmodel\u001b[49m\u001b[43m,\u001b[49m\u001b[43m \u001b[49m\u001b[38;5;28;43minput\u001b[39;49m\u001b[43m,\u001b[49m\u001b[43m \u001b[49m\u001b[43mbatch_masks\u001b[49m\u001b[43m,\u001b[49m\n\u001b[1;32m    100\u001b[0m \u001b[43m                                                \u001b[49m\u001b[43mperturbator\u001b[49m\u001b[43m,\u001b[49m\u001b[43m \u001b[49m\u001b[43minput_shape\u001b[49m\u001b[43m,\u001b[49m\u001b[43m \u001b[49m\u001b[38;5;28;43mself\u001b[39;49m\u001b[38;5;241;43m.\u001b[39;49m\u001b[43mtarget_mask\u001b[49m\u001b[43m)\u001b[49m\n\u001b[1;32m    102\u001b[0m \u001b[38;5;66;03m# store the results\u001b[39;00m\n\u001b[1;32m    103\u001b[0m y[start_index:end_index] \u001b[38;5;241m=\u001b[39m batch_y\n",
      "File \u001b[0;32m~/jupyterlab/eo-xai/sobol_indices/Sobol-Attribution-Method/sobol_attribution_method/torch_explainer.py:128\u001b[0m, in \u001b[0;36mSobolAttributionMethod._batch_forward\u001b[0;34m(model, input, masks, perturbator, input_shape, target_mask)\u001b[0m\n\u001b[1;32m    117\u001b[0m perturbated_inputs \u001b[38;5;241m=\u001b[39m perturbator(upsampled_masks)\n\u001b[1;32m    119\u001b[0m \u001b[38;5;66;03m# ##visualize perturbated inputs##\u001b[39;00m\n\u001b[1;32m    120\u001b[0m \u001b[38;5;66;03m# print(\"ddd\",perturbated_inputs.shape)\u001b[39;00m\n\u001b[1;32m    121\u001b[0m \u001b[38;5;66;03m# visualize_perturbated_inputs = np.transpose(perturbated_inputs.squeeze(0).cpu().detach().numpy(),(1,2,0))\u001b[39;00m\n\u001b[0;32m   (...)\u001b[0m\n\u001b[1;32m    125\u001b[0m \u001b[38;5;66;03m# plt.show()\u001b[39;00m\n\u001b[1;32m    126\u001b[0m \u001b[38;5;66;03m# ##################\u001b[39;00m\n\u001b[0;32m--> 128\u001b[0m logits \u001b[38;5;241m=\u001b[39m \u001b[43mmodel\u001b[49m\u001b[43m(\u001b[49m\u001b[43mperturbated_inputs\u001b[49m\u001b[43m)\u001b[49m\n\u001b[1;32m    130\u001b[0m \u001b[38;5;66;03m# ##visualize outputs ##\u001b[39;00m\n\u001b[1;32m    131\u001b[0m \u001b[38;5;66;03m# visualize_perturbated_outputs = logits.squeeze(0).squeeze(0).cpu().detach().numpy()\u001b[39;00m\n\u001b[1;32m    132\u001b[0m \u001b[38;5;66;03m# visualize_perturbated_outputs = (visualize_perturbated_outputs - np.min(visualize_perturbated_outputs)) / (np.max(visualize_perturbated_outputs) - np.min(visualize_perturbated_outputs))\u001b[39;00m\n\u001b[1;32m    133\u001b[0m \u001b[38;5;66;03m# plt.imshow(visualize_perturbated_outputs)\u001b[39;00m\n\u001b[1;32m    134\u001b[0m \u001b[38;5;66;03m# plt.show()\u001b[39;00m\n\u001b[1;32m    135\u001b[0m \u001b[38;5;66;03m# ##################\u001b[39;00m\n\u001b[1;32m    137\u001b[0m masked_logits \u001b[38;5;241m=\u001b[39m logits\u001b[38;5;241m.\u001b[39mcpu()\u001b[38;5;241m.\u001b[39mdetach()\u001b[38;5;241m.\u001b[39mnumpy() \u001b[38;5;241m*\u001b[39m target_mask\n",
      "File \u001b[0;32m~/jupyterlab/eo-xai/xai_fyp/lib/python3.10/site-packages/torch/nn/modules/module.py:1110\u001b[0m, in \u001b[0;36mModule._call_impl\u001b[0;34m(self, *input, **kwargs)\u001b[0m\n\u001b[1;32m   1106\u001b[0m \u001b[38;5;66;03m# If we don't have any hooks, we want to skip the rest of the logic in\u001b[39;00m\n\u001b[1;32m   1107\u001b[0m \u001b[38;5;66;03m# this function, and just call forward.\u001b[39;00m\n\u001b[1;32m   1108\u001b[0m \u001b[38;5;28;01mif\u001b[39;00m \u001b[38;5;129;01mnot\u001b[39;00m (\u001b[38;5;28mself\u001b[39m\u001b[38;5;241m.\u001b[39m_backward_hooks \u001b[38;5;129;01mor\u001b[39;00m \u001b[38;5;28mself\u001b[39m\u001b[38;5;241m.\u001b[39m_forward_hooks \u001b[38;5;129;01mor\u001b[39;00m \u001b[38;5;28mself\u001b[39m\u001b[38;5;241m.\u001b[39m_forward_pre_hooks \u001b[38;5;129;01mor\u001b[39;00m _global_backward_hooks\n\u001b[1;32m   1109\u001b[0m         \u001b[38;5;129;01mor\u001b[39;00m _global_forward_hooks \u001b[38;5;129;01mor\u001b[39;00m _global_forward_pre_hooks):\n\u001b[0;32m-> 1110\u001b[0m     \u001b[38;5;28;01mreturn\u001b[39;00m \u001b[43mforward_call\u001b[49m\u001b[43m(\u001b[49m\u001b[38;5;241;43m*\u001b[39;49m\u001b[38;5;28;43minput\u001b[39;49m\u001b[43m,\u001b[49m\u001b[43m \u001b[49m\u001b[38;5;241;43m*\u001b[39;49m\u001b[38;5;241;43m*\u001b[39;49m\u001b[43mkwargs\u001b[49m\u001b[43m)\u001b[49m\n\u001b[1;32m   1111\u001b[0m \u001b[38;5;66;03m# Do not call functions when jit is used\u001b[39;00m\n\u001b[1;32m   1112\u001b[0m full_backward_hooks, non_full_backward_hooks \u001b[38;5;241m=\u001b[39m [], []\n",
      "File \u001b[0;32m~/jupyterlab/eo-xai/xai_fyp/lib/python3.10/site-packages/segmentation_models_pytorch/base/model.py:29\u001b[0m, in \u001b[0;36mSegmentationModel.forward\u001b[0;34m(self, x)\u001b[0m\n\u001b[1;32m     25\u001b[0m \u001b[38;5;250m\u001b[39m\u001b[38;5;124;03m\"\"\"Sequentially pass `x` trough model`s encoder, decoder and heads\"\"\"\u001b[39;00m\n\u001b[1;32m     27\u001b[0m \u001b[38;5;28mself\u001b[39m\u001b[38;5;241m.\u001b[39mcheck_input_shape(x)\n\u001b[0;32m---> 29\u001b[0m features \u001b[38;5;241m=\u001b[39m \u001b[38;5;28;43mself\u001b[39;49m\u001b[38;5;241;43m.\u001b[39;49m\u001b[43mencoder\u001b[49m\u001b[43m(\u001b[49m\u001b[43mx\u001b[49m\u001b[43m)\u001b[49m\n\u001b[1;32m     30\u001b[0m decoder_output \u001b[38;5;241m=\u001b[39m \u001b[38;5;28mself\u001b[39m\u001b[38;5;241m.\u001b[39mdecoder(\u001b[38;5;241m*\u001b[39mfeatures)\n\u001b[1;32m     32\u001b[0m masks \u001b[38;5;241m=\u001b[39m \u001b[38;5;28mself\u001b[39m\u001b[38;5;241m.\u001b[39msegmentation_head(decoder_output)\n",
      "File \u001b[0;32m~/jupyterlab/eo-xai/xai_fyp/lib/python3.10/site-packages/torch/nn/modules/module.py:1110\u001b[0m, in \u001b[0;36mModule._call_impl\u001b[0;34m(self, *input, **kwargs)\u001b[0m\n\u001b[1;32m   1106\u001b[0m \u001b[38;5;66;03m# If we don't have any hooks, we want to skip the rest of the logic in\u001b[39;00m\n\u001b[1;32m   1107\u001b[0m \u001b[38;5;66;03m# this function, and just call forward.\u001b[39;00m\n\u001b[1;32m   1108\u001b[0m \u001b[38;5;28;01mif\u001b[39;00m \u001b[38;5;129;01mnot\u001b[39;00m (\u001b[38;5;28mself\u001b[39m\u001b[38;5;241m.\u001b[39m_backward_hooks \u001b[38;5;129;01mor\u001b[39;00m \u001b[38;5;28mself\u001b[39m\u001b[38;5;241m.\u001b[39m_forward_hooks \u001b[38;5;129;01mor\u001b[39;00m \u001b[38;5;28mself\u001b[39m\u001b[38;5;241m.\u001b[39m_forward_pre_hooks \u001b[38;5;129;01mor\u001b[39;00m _global_backward_hooks\n\u001b[1;32m   1109\u001b[0m         \u001b[38;5;129;01mor\u001b[39;00m _global_forward_hooks \u001b[38;5;129;01mor\u001b[39;00m _global_forward_pre_hooks):\n\u001b[0;32m-> 1110\u001b[0m     \u001b[38;5;28;01mreturn\u001b[39;00m \u001b[43mforward_call\u001b[49m\u001b[43m(\u001b[49m\u001b[38;5;241;43m*\u001b[39;49m\u001b[38;5;28;43minput\u001b[39;49m\u001b[43m,\u001b[49m\u001b[43m \u001b[49m\u001b[38;5;241;43m*\u001b[39;49m\u001b[38;5;241;43m*\u001b[39;49m\u001b[43mkwargs\u001b[49m\u001b[43m)\u001b[49m\n\u001b[1;32m   1111\u001b[0m \u001b[38;5;66;03m# Do not call functions when jit is used\u001b[39;00m\n\u001b[1;32m   1112\u001b[0m full_backward_hooks, non_full_backward_hooks \u001b[38;5;241m=\u001b[39m [], []\n",
      "File \u001b[0;32m~/jupyterlab/eo-xai/xai_fyp/lib/python3.10/site-packages/segmentation_models_pytorch/encoders/efficientnet.py:73\u001b[0m, in \u001b[0;36mEfficientNetEncoder.forward\u001b[0;34m(self, x)\u001b[0m\n\u001b[1;32m     71\u001b[0m             drop_connect \u001b[38;5;241m=\u001b[39m drop_connect_rate \u001b[38;5;241m*\u001b[39m block_number \u001b[38;5;241m/\u001b[39m \u001b[38;5;28mlen\u001b[39m(\u001b[38;5;28mself\u001b[39m\u001b[38;5;241m.\u001b[39m_blocks)\n\u001b[1;32m     72\u001b[0m             block_number \u001b[38;5;241m+\u001b[39m\u001b[38;5;241m=\u001b[39m \u001b[38;5;241m1.0\u001b[39m\n\u001b[0;32m---> 73\u001b[0m             x \u001b[38;5;241m=\u001b[39m \u001b[43mmodule\u001b[49m\u001b[43m(\u001b[49m\u001b[43mx\u001b[49m\u001b[43m,\u001b[49m\u001b[43m \u001b[49m\u001b[43mdrop_connect\u001b[49m\u001b[43m)\u001b[49m\n\u001b[1;32m     75\u001b[0m     features\u001b[38;5;241m.\u001b[39mappend(x)\n\u001b[1;32m     77\u001b[0m \u001b[38;5;28;01mreturn\u001b[39;00m features\n",
      "File \u001b[0;32m~/jupyterlab/eo-xai/xai_fyp/lib/python3.10/site-packages/torch/nn/modules/module.py:1110\u001b[0m, in \u001b[0;36mModule._call_impl\u001b[0;34m(self, *input, **kwargs)\u001b[0m\n\u001b[1;32m   1106\u001b[0m \u001b[38;5;66;03m# If we don't have any hooks, we want to skip the rest of the logic in\u001b[39;00m\n\u001b[1;32m   1107\u001b[0m \u001b[38;5;66;03m# this function, and just call forward.\u001b[39;00m\n\u001b[1;32m   1108\u001b[0m \u001b[38;5;28;01mif\u001b[39;00m \u001b[38;5;129;01mnot\u001b[39;00m (\u001b[38;5;28mself\u001b[39m\u001b[38;5;241m.\u001b[39m_backward_hooks \u001b[38;5;129;01mor\u001b[39;00m \u001b[38;5;28mself\u001b[39m\u001b[38;5;241m.\u001b[39m_forward_hooks \u001b[38;5;129;01mor\u001b[39;00m \u001b[38;5;28mself\u001b[39m\u001b[38;5;241m.\u001b[39m_forward_pre_hooks \u001b[38;5;129;01mor\u001b[39;00m _global_backward_hooks\n\u001b[1;32m   1109\u001b[0m         \u001b[38;5;129;01mor\u001b[39;00m _global_forward_hooks \u001b[38;5;129;01mor\u001b[39;00m _global_forward_pre_hooks):\n\u001b[0;32m-> 1110\u001b[0m     \u001b[38;5;28;01mreturn\u001b[39;00m \u001b[43mforward_call\u001b[49m\u001b[43m(\u001b[49m\u001b[38;5;241;43m*\u001b[39;49m\u001b[38;5;28;43minput\u001b[39;49m\u001b[43m,\u001b[49m\u001b[43m \u001b[49m\u001b[38;5;241;43m*\u001b[39;49m\u001b[38;5;241;43m*\u001b[39;49m\u001b[43mkwargs\u001b[49m\u001b[43m)\u001b[49m\n\u001b[1;32m   1111\u001b[0m \u001b[38;5;66;03m# Do not call functions when jit is used\u001b[39;00m\n\u001b[1;32m   1112\u001b[0m full_backward_hooks, non_full_backward_hooks \u001b[38;5;241m=\u001b[39m [], []\n",
      "File \u001b[0;32m~/jupyterlab/eo-xai/xai_fyp/lib/python3.10/site-packages/efficientnet_pytorch/model.py:105\u001b[0m, in \u001b[0;36mMBConvBlock.forward\u001b[0;34m(self, inputs, drop_connect_rate)\u001b[0m\n\u001b[1;32m    103\u001b[0m x \u001b[38;5;241m=\u001b[39m inputs\n\u001b[1;32m    104\u001b[0m \u001b[38;5;28;01mif\u001b[39;00m \u001b[38;5;28mself\u001b[39m\u001b[38;5;241m.\u001b[39m_block_args\u001b[38;5;241m.\u001b[39mexpand_ratio \u001b[38;5;241m!=\u001b[39m \u001b[38;5;241m1\u001b[39m:\n\u001b[0;32m--> 105\u001b[0m     x \u001b[38;5;241m=\u001b[39m \u001b[38;5;28;43mself\u001b[39;49m\u001b[38;5;241;43m.\u001b[39;49m\u001b[43m_expand_conv\u001b[49m\u001b[43m(\u001b[49m\u001b[43minputs\u001b[49m\u001b[43m)\u001b[49m\n\u001b[1;32m    106\u001b[0m     x \u001b[38;5;241m=\u001b[39m \u001b[38;5;28mself\u001b[39m\u001b[38;5;241m.\u001b[39m_bn0(x)\n\u001b[1;32m    107\u001b[0m     x \u001b[38;5;241m=\u001b[39m \u001b[38;5;28mself\u001b[39m\u001b[38;5;241m.\u001b[39m_swish(x)\n",
      "File \u001b[0;32m~/jupyterlab/eo-xai/xai_fyp/lib/python3.10/site-packages/torch/nn/modules/module.py:1110\u001b[0m, in \u001b[0;36mModule._call_impl\u001b[0;34m(self, *input, **kwargs)\u001b[0m\n\u001b[1;32m   1106\u001b[0m \u001b[38;5;66;03m# If we don't have any hooks, we want to skip the rest of the logic in\u001b[39;00m\n\u001b[1;32m   1107\u001b[0m \u001b[38;5;66;03m# this function, and just call forward.\u001b[39;00m\n\u001b[1;32m   1108\u001b[0m \u001b[38;5;28;01mif\u001b[39;00m \u001b[38;5;129;01mnot\u001b[39;00m (\u001b[38;5;28mself\u001b[39m\u001b[38;5;241m.\u001b[39m_backward_hooks \u001b[38;5;129;01mor\u001b[39;00m \u001b[38;5;28mself\u001b[39m\u001b[38;5;241m.\u001b[39m_forward_hooks \u001b[38;5;129;01mor\u001b[39;00m \u001b[38;5;28mself\u001b[39m\u001b[38;5;241m.\u001b[39m_forward_pre_hooks \u001b[38;5;129;01mor\u001b[39;00m _global_backward_hooks\n\u001b[1;32m   1109\u001b[0m         \u001b[38;5;129;01mor\u001b[39;00m _global_forward_hooks \u001b[38;5;129;01mor\u001b[39;00m _global_forward_pre_hooks):\n\u001b[0;32m-> 1110\u001b[0m     \u001b[38;5;28;01mreturn\u001b[39;00m \u001b[43mforward_call\u001b[49m\u001b[43m(\u001b[49m\u001b[38;5;241;43m*\u001b[39;49m\u001b[38;5;28;43minput\u001b[39;49m\u001b[43m,\u001b[49m\u001b[43m \u001b[49m\u001b[38;5;241;43m*\u001b[39;49m\u001b[38;5;241;43m*\u001b[39;49m\u001b[43mkwargs\u001b[49m\u001b[43m)\u001b[49m\n\u001b[1;32m   1111\u001b[0m \u001b[38;5;66;03m# Do not call functions when jit is used\u001b[39;00m\n\u001b[1;32m   1112\u001b[0m full_backward_hooks, non_full_backward_hooks \u001b[38;5;241m=\u001b[39m [], []\n",
      "File \u001b[0;32m~/jupyterlab/eo-xai/xai_fyp/lib/python3.10/site-packages/efficientnet_pytorch/utils.py:275\u001b[0m, in \u001b[0;36mConv2dStaticSamePadding.forward\u001b[0;34m(self, x)\u001b[0m\n\u001b[1;32m    273\u001b[0m \u001b[38;5;28;01mdef\u001b[39;00m \u001b[38;5;21mforward\u001b[39m(\u001b[38;5;28mself\u001b[39m, x):\n\u001b[1;32m    274\u001b[0m     x \u001b[38;5;241m=\u001b[39m \u001b[38;5;28mself\u001b[39m\u001b[38;5;241m.\u001b[39mstatic_padding(x)\n\u001b[0;32m--> 275\u001b[0m     x \u001b[38;5;241m=\u001b[39m \u001b[43mF\u001b[49m\u001b[38;5;241;43m.\u001b[39;49m\u001b[43mconv2d\u001b[49m\u001b[43m(\u001b[49m\u001b[43mx\u001b[49m\u001b[43m,\u001b[49m\u001b[43m \u001b[49m\u001b[38;5;28;43mself\u001b[39;49m\u001b[38;5;241;43m.\u001b[39;49m\u001b[43mweight\u001b[49m\u001b[43m,\u001b[49m\u001b[43m \u001b[49m\u001b[38;5;28;43mself\u001b[39;49m\u001b[38;5;241;43m.\u001b[39;49m\u001b[43mbias\u001b[49m\u001b[43m,\u001b[49m\u001b[43m \u001b[49m\u001b[38;5;28;43mself\u001b[39;49m\u001b[38;5;241;43m.\u001b[39;49m\u001b[43mstride\u001b[49m\u001b[43m,\u001b[49m\u001b[43m \u001b[49m\u001b[38;5;28;43mself\u001b[39;49m\u001b[38;5;241;43m.\u001b[39;49m\u001b[43mpadding\u001b[49m\u001b[43m,\u001b[49m\u001b[43m \u001b[49m\u001b[38;5;28;43mself\u001b[39;49m\u001b[38;5;241;43m.\u001b[39;49m\u001b[43mdilation\u001b[49m\u001b[43m,\u001b[49m\u001b[43m \u001b[49m\u001b[38;5;28;43mself\u001b[39;49m\u001b[38;5;241;43m.\u001b[39;49m\u001b[43mgroups\u001b[49m\u001b[43m)\u001b[49m\n\u001b[1;32m    276\u001b[0m     \u001b[38;5;28;01mreturn\u001b[39;00m x\n",
      "\u001b[0;31mRuntimeError\u001b[0m: CUDA out of memory. Tried to allocate 2.25 GiB (GPU 0; 11.91 GiB total capacity; 9.57 GiB already allocated; 1.57 GiB free; 9.58 GiB reserved in total by PyTorch) If reserved memory is >> allocated memory try setting max_split_size_mb to avoid fragmentation.  See documentation for Memory Management and PYTORCH_CUDA_ALLOC_CONF"
     ]
    }
   ],
   "source": [
    "explainer = SobolAttributionMethod(model,road_mask, grid_size=8, nb_design=32, batch_size=8)\n",
    "print(x.shape)\n",
    "explanations = explainer(x)\n",
    "\n",
    "# print(y)\n",
    "\n",
    "for i in range(len(x)):\n",
    "    plt.subplot(1, len(x), i+1)\n",
    "    # show(x[i].cpu())\n",
    "    show(explanations[i], cmap='jet', alpha=0.5)\n",
    "    print(explanations[i].max(),explanations[i].min())\n",
    "plt.show()"
   ]
  },
  {
   "cell_type": "code",
   "execution_count": null,
   "id": "4f400411-49ff-4919-9564-6a620f5bde85",
   "metadata": {},
   "outputs": [],
   "source": []
  },
  {
   "cell_type": "code",
   "execution_count": null,
   "id": "81482628-53cf-491e-ab0a-52b6951308aa",
   "metadata": {},
   "outputs": [],
   "source": []
  }
 ],
 "metadata": {
  "kernelspec": {
   "display_name": "Python (myenv)",
   "language": "python",
   "name": "myenv"
  },
  "language_info": {
   "codemirror_mode": {
    "name": "ipython",
    "version": 3
   },
   "file_extension": ".py",
   "mimetype": "text/x-python",
   "name": "python",
   "nbconvert_exporter": "python",
   "pygments_lexer": "ipython3",
   "version": "3.10.12"
  }
 },
 "nbformat": 4,
 "nbformat_minor": 5
}
